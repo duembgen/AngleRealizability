{
 "cells": [
  {
   "cell_type": "code",
   "execution_count": null,
   "metadata": {},
   "outputs": [],
   "source": [
    "import numpy as np\n",
    "import matplotlib.pylab as plt\n",
    "\n",
    "from AngleRealizability import angle_set\n",
    "\n",
    "%reload_ext autoreload\n",
    "%autoreload 2"
   ]
  },
  {
   "cell_type": "markdown",
   "metadata": {},
   "source": [
    "# Create synthetic setups"
   ]
  },
  {
   "cell_type": "code",
   "execution_count": null,
   "metadata": {},
   "outputs": [],
   "source": [
    "##### random -- too big\n",
    "np.random.seed(7)\n",
    "num_ambiguities = 2\n",
    "num_drones = 5\n",
    "gt_positions = np.random.rand(num_drones, 2)\n",
    "gt_orientations = np.random.rand(num_drones) * 360"
   ]
  },
  {
   "cell_type": "code",
   "execution_count": null,
   "metadata": {},
   "outputs": [],
   "source": [
    "##### random -- too big for brute force\n",
    "np.random.seed(8)\n",
    "num_ambiguities = 3\n",
    "num_drones = 5\n",
    "gt_positions = np.random.rand(num_drones, 2)\n",
    "gt_orientations = np.random.rand(num_drones) * 360"
   ]
  },
  {
   "cell_type": "code",
   "execution_count": null,
   "metadata": {
    "deletable": false,
    "editable": false,
    "run_control": {
     "frozen": true
    }
   },
   "outputs": [],
   "source": [
    "##### hard-coded\n",
    "num_drones = 4\n",
    "gt_positions = np.array([[0, 0], [1., 1.], [1., 0]]) # M x d\n",
    "gt_orientations = [0, 0, 0]\n",
    "if num_drones == 3:\n",
    "    num_ambiguities = 2\n",
    "elif num_drones == 4:\n",
    "    num_ambiguities = 1\n",
    "    gt_positions = np.r_[gt_positions, [[0, 1.]]]\n",
    "    gt_orientations = np.r_[gt_orientations, 0]"
   ]
  },
  {
   "cell_type": "code",
   "execution_count": null,
   "metadata": {},
   "outputs": [],
   "source": [
    "from angle_algorithms import get_direction\n",
    "\n",
    "fig, ax = plt.subplots()\n",
    "for i, (alpha, this_pos) in enumerate(zip(gt_orientations, gt_positions)):\n",
    "    gt_other_idx = np.delete(np.arange(num_drones), i)\n",
    "    ax.scatter(*this_pos, color=f'C{i}', label=f'p{i}')\n",
    "    ax.quiver(*this_pos, *get_direction(alpha), color=f'C{i}') #x, y, u, w\n",
    "    \n",
    "    gt_others = gt_positions[gt_other_idx, :]\n",
    "    for j, other_pos in zip(gt_other_idx, gt_others):\n",
    "        other_dir = (other_pos - this_pos)\n",
    "        other_dir /= np.linalg.norm(other_dir)\n",
    "        ax.quiver(*this_pos, *other_dir, color=f'C{j}',\n",
    "                  linestyle = ':') #x, y, u, w\n",
    "ax.legend()\n",
    "ax.axis('equal')\n",
    "pass"
   ]
  },
  {
   "cell_type": "code",
   "execution_count": null,
   "metadata": {},
   "outputs": [],
   "source": [
    "import itertools\n",
    "np.random.seed(2)\n",
    "\n",
    "def print_angles(abs_angles_dict):\n",
    "    for corner, dict_ in abs_angles_dict.items():\n",
    "        for other, val in dict_.items():\n",
    "            val = np.array(val).reshape((-1, )) * 180 / np.pi\n",
    "            val = val.astype(np.int)  #round(0)\n",
    "            print(f\"direction ({corner}, {other}): {val}\")\n",
    "\n",
    "\n",
    "abs_angles_dict = angle_set.get_absolute_angles(gt_positions, num_ambiguities=num_ambiguities)\n",
    "print_angles(abs_angles_dict)\n",
    "\n",
    "print('expected number per drone', (num_ambiguities + 1)**(num_drones - 1))\n",
    "print('expected number of combinations:', ((num_ambiguities + 1)**(num_drones - 1))**(num_drones))"
   ]
  },
  {
   "cell_type": "markdown",
   "metadata": {},
   "source": [
    "# Brute-force algorithm"
   ]
  },
  {
   "cell_type": "code",
   "execution_count": null,
   "metadata": {},
   "outputs": [],
   "source": [
    "from angle_algorithms import * \n",
    "from log_progress import log_progress\n",
    "import time# generate all possible choices for each drone:\n",
    "\n",
    "def brute_force(abs_angles_dict):\n",
    "    combis_per_drone = {}\n",
    "    for drone, drone_abs_angle_dict in abs_angles_dict.items():\n",
    "        list_of_lists = list(drone_abs_angle_dict.values())\n",
    "        angle_combinations = list(itertools.product(*list_of_lists)) \n",
    "        combis_per_drone[drone] = angle_combinations\n",
    "    print(f'number of combinations per drone: ', len(angle_combinations))\n",
    "\n",
    "    indices_dict = {drone:range(len(combis)) \n",
    "                    for (drone, combis) in combis_per_drone.items()}\n",
    "    list_of_lists = list(indices_dict.values())\n",
    "    all_combinations = list(itertools.product(*list_of_lists))\n",
    "    print('total number of combinations:', len(all_combinations))\n",
    "\n",
    "    total = len(all_combinations)\n",
    "\n",
    "    start = time.time()\n",
    "    for combi in log_progress(all_combinations):\n",
    "        #print(f'{i} / {total} ({i/total:.0f}%)')\n",
    "        chosen_abs_angle_dict = {}\n",
    "        for choice, (drone, combis_drone) in zip(combi, combis_per_drone.items()):\n",
    "            chosen_abs_angle_dict[drone] = dict(zip(\n",
    "                abs_angles_dict[drone].keys(),\n",
    "                combis_drone[choice]))\n",
    "\n",
    "        preprocess(chosen_abs_angle_dict)\n",
    "\n",
    "        mae, __ = test_feasibility(chosen_abs_angle_dict)\n",
    "        if mae < 1e-2:\n",
    "            print(f'very small error error for choice {combi}: {mae:.1e}')\n",
    "            print_angles(chosen_abs_angle_dict)\n",
    "\n",
    "    print(f'done after {time.time() - start:.2f} seconds')\n",
    "\n",
    "brute_force(abs_angles_dict)"
   ]
  },
  {
   "cell_type": "markdown",
   "metadata": {},
   "source": [
    "# Greedy algorithm"
   ]
  },
  {
   "cell_type": "code",
   "execution_count": null,
   "metadata": {},
   "outputs": [],
   "source": [
    "# find the correct answer using brute force.\n",
    "from backtrack import constraints_check, PartialSolution\n",
    "\n",
    "import copy\n",
    "P = copy.deepcopy(abs_angles_dict)\n",
    "print_angles(P)\n",
    "\n",
    "if num_drones == 3:\n",
    "    c = PartialSolution()\n",
    "    indices = [2, 1, 2, 2, 2, 2]\n",
    "    c.create_solution(P, indices)\n",
    "    mae, message = constraints_check(P, c)\n",
    "    print(message)\n",
    "    #brute_force(P)\n",
    "elif num_drones > 3:\n",
    "    c = PartialSolution()\n",
    "    indices = 3 * np.ones((20,), dtype=int)\n",
    "    c.create_solution(P, indices, num_drones=num_drones)\n",
    "    mae, message = constraints_check(P, c)\n",
    "    print(message)\n",
    "    #brute_force(P)"
   ]
  },
  {
   "cell_type": "code",
   "execution_count": null,
   "metadata": {},
   "outputs": [],
   "source": [
    "from backtrack import backtrack, root\n",
    "import time\n",
    "start = time.time()\n",
    "backtrack(P, root(P))\n",
    "print(f'done after {time.time() - start:.2f} seconds')"
   ]
  },
  {
   "cell_type": "code",
   "execution_count": null,
   "metadata": {},
   "outputs": [],
   "source": []
  }
 ],
 "metadata": {
  "kernelspec": {
   "display_name": "Python 3",
   "language": "python",
   "name": "python3"
  },
  "language_info": {
   "codemirror_mode": {
    "name": "ipython",
    "version": 3
   },
   "file_extension": ".py",
   "mimetype": "text/x-python",
   "name": "python",
   "nbconvert_exporter": "python",
   "pygments_lexer": "ipython3",
   "version": "3.6.9"
  }
 },
 "nbformat": 4,
 "nbformat_minor": 4
}
