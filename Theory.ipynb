{
 "cells": [
  {
   "cell_type": "code",
   "execution_count": null,
   "metadata": {},
   "outputs": [],
   "source": [
    "%reload_ext autoreload\n",
    "%autoreload 2\n",
    "\n",
    "import matplotlib.pylab as plt\n",
    "import numpy as np\n",
    "import pandas as pd\n",
    "import seaborn as sns"
   ]
  },
  {
   "cell_type": "markdown",
   "metadata": {},
   "source": [
    "# Nonlinear constraints"
   ]
  },
  {
   "cell_type": "code",
   "execution_count": null,
   "metadata": {},
   "outputs": [],
   "source": [
    "from angle_set import AngleSet\n",
    "\n",
    "d = 2 # do not change.\n",
    "N = 4\n",
    "\n",
    "#np.random.seed(51) # non-convex\n",
    "np.random.seed(7) #convex\n",
    "\n",
    "angle_set = AngleSet(N=N, d=d)\n",
    "angle_set.set_points(mode='random')\n",
    "angle_set.plot_all()"
   ]
  },
  {
   "cell_type": "code",
   "execution_count": null,
   "metadata": {},
   "outputs": [],
   "source": [
    "from simulation_discrepancy import get_noisy\n",
    "from algorithms import constraint_sine\n",
    "from angle_set import get_linear_constraints\n",
    "from scipy.optimize import minimize\n",
    "\n",
    "linear = True\n",
    "np.random.seed(1)\n",
    "noisy_angles = get_noisy(angle_set.theta, scale=0.2)\n",
    "\n",
    "chosen_quad = [0, 1, 2, 3]\n",
    "cost0 = constraint_sine(noisy_angles, angle_set.corners, chosen_quad)\n",
    "print('cost0', cost0)\n",
    "\n",
    "\n",
    "cons = []\n",
    "\n",
    "print('adding non-linear constraints')\n",
    "cons.append({\n",
    "    'type': 'eq',\n",
    "    'fun': lambda x: constraint_sine(x, angle_set.corners, chosen_quad)\n",
    "})\n",
    "if linear:\n",
    "    print('adding linear constraints')\n",
    "    Afull, bfull = get_linear_constraints(angle_set)\n",
    "    cons.append({\n",
    "        'type': 'eq',\n",
    "        'fun': lambda x: Afull.dot(x) - bfull\n",
    "    })\n",
    "options = {\n",
    "    'disp': False,\n",
    "    'ftol': 1e-12, \n",
    "    'maxiter': 400,\n",
    "}\n",
    "loss = lambda x: 0.5*np.linalg.norm(x - noisy_angles)**2\n",
    "res = minimize(loss, x0=noisy_angles, constraints=cons,\n",
    "               method='SLSQP', options=options)\n",
    "denoised_angles = res.x\n",
    "if not res.success:\n",
    "    print('Warning: did not solve.')\n",
    "cost1 = constraint_sine(denoised_angles, angle_set.corners, chosen_quad)\n",
    "print('cost1', cost1)"
   ]
  },
  {
   "cell_type": "code",
   "execution_count": null,
   "metadata": {},
   "outputs": [],
   "source": [
    "from algorithms import get_angles\n",
    "from math import cos, sin\n",
    "\n",
    "# those are the angles we have imposed constraints for.\n",
    "print('constrained imposed on', chosen_quad)\n",
    "g, h, i, j, k, l = get_angles(denoised_angles, angle_set.corners, chosen_quad)\n",
    "print('should be equal: {:.2e} - {:.2e} = {:.2e}'.format(sin(i) * sin(h) * sin(l), sin(g) * sin(j) * sin(k), \n",
    "                                                     sin(i) * sin(h) * sin(l) - sin(g) * sin(j) * sin(k)))\n",
    "\n",
    "for shift in range(1, 4):\n",
    "    shifted_quad = np.roll(chosen_quad, shift=shift)\n",
    "    a, b, c, d, e, f = get_angles(denoised_angles, angle_set.corners, shifted_quad)\n",
    "    print(f'{shifted_quad}: not necessarily equal', sin(c) * sin(b) * sin(f), sin(a) * sin(d) * sin(e))"
   ]
  },
  {
   "cell_type": "markdown",
   "metadata": {},
   "source": [
    "Next we kind of implicitly impose a few linear constraints, because we \n",
    "express the adjacent set of angles in terms of the original angles, \n",
    "thus using the \"single\" constraints around the points. \n",
    "Note that this equation only holds for a convex set up where the \n",
    "points 0 to 3 are in clockwise order (seed 7 gives such a setup).\n",
    "this is not a limiting factor, generalizing would just make the code\n",
    "a bit more ugly."
   ]
  },
  {
   "cell_type": "code",
   "execution_count": null,
   "metadata": {},
   "outputs": [],
   "source": [
    "print('should be equal: {:.2e} - {:.2e} = {:2e}'.format(sin(g+h) * sin(g+i) * sin(l), sin(j-l) * sin(k+l) * sin(g),\n",
    "                                                   sin(g+h) * sin(g+i) * sin(l) - sin(j-l) * sin(k+l) * sin(g)))\n",
    "print('should be equal: {:.2e} - {:.2e} = {:2e}'.format(sin(g+h) * sin(j+h) * sin(k), sin(i-k) * sin(l+k) * sin(h),\n",
    "                                                   sin(g+h) * sin(j+h) * sin(k) - sin(i-k) * sin(l+k) * sin(h)))"
   ]
  },
  {
   "cell_type": "code",
   "execution_count": null,
   "metadata": {},
   "outputs": [],
   "source": [
    "up=cos(h)**2 + sin(h)/sin(j)*cos(j)*cos(h) + sin(h)/sin(g)*cos(h)*cos(g) + sin(h)**2 / (sin(g)*sin(j))*cos(g)*cos(j)\n",
    "down=cos(k)**2 + sin(k)/sin(l)*cos(l)*cos(k) - sin(k)/sin(i)*cos(k)*cos(i) - sin(k)**2 / (sin(i)*sin(l))*cos(i)*cos(l)\n",
    "print(up, down, up-down)"
   ]
  },
  {
   "cell_type": "markdown",
   "metadata": {},
   "source": [
    "## Findings\n",
    "\n",
    "When we do not impose the linear constraints, then imposing sine constraints on one choice of angles does not imply the constraints on the adjacent set of angles. The constraint is almost satisfied, but not exactly, and the error does not seem to be due to numerical problems only. To verify this, set linear to False above and see that the last \"should be equal\" lines are not equal.\n",
    "\n",
    "When we impose the linear constraints, then imposing on constraint also implies all others."
   ]
  },
  {
   "cell_type": "code",
   "execution_count": null,
   "metadata": {},
   "outputs": [],
   "source": []
  }
 ],
 "metadata": {
  "kernelspec": {
   "display_name": "Python 3",
   "language": "python",
   "name": "python3"
  },
  "language_info": {
   "codemirror_mode": {
    "name": "ipython",
    "version": 3
   },
   "file_extension": ".py",
   "mimetype": "text/x-python",
   "name": "python",
   "nbconvert_exporter": "python",
   "pygments_lexer": "ipython3",
   "version": "3.6.8"
  }
 },
 "nbformat": 4,
 "nbformat_minor": 2
}
