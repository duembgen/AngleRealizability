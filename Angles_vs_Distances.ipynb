{
 "cells": [
  {
   "cell_type": "code",
   "execution_count": null,
   "metadata": {},
   "outputs": [],
   "source": [
    "%reload_ext autoreload\n",
    "%autoreload 2\n",
    "\n",
    "import matplotlib.pylab as plt\n",
    "import numpy as np\n",
    "import pandas as pd\n",
    "import seaborn as sns"
   ]
  },
  {
   "cell_type": "markdown",
   "metadata": {},
   "source": [
    "# Compare generating from angles with generating from distances. "
   ]
  },
  {
   "cell_type": "code",
   "execution_count": null,
   "metadata": {},
   "outputs": [],
   "source": [
    "# plot from paper\n",
    "fname = 'results/angles_distances_ICASSP.pkl'\n",
    "plot_sigmas = [-5, -3, -1]\n",
    "\n",
    "df_results = pd.read_pickle(fname)\n",
    "df_results.head()\n",
    "df_results.loc[:, 'square_size'] = df_results.loc[:, 'size']\n",
    "df_results.loc[:, 'n_it'] = df_results.n_it.astype(np.float16)\n",
    "print(df_results.square_size.values)"
   ]
  },
  {
   "cell_type": "code",
   "execution_count": null,
   "metadata": {},
   "outputs": [],
   "source": [
    "from helpers import savefig\n",
    "sigmas_distance = df_results[df_results.type=='distance'].sigma.unique()\n",
    "print('available sigmas distance', sigmas_distance)\n",
    "sigmas_angle = df_results[df_results.type=='angle'].sigma.unique()\n",
    "print('available sigmas distance', sigmas_angle)\n",
    "\n",
    "for sigma_distance in sigmas_distance[-4:]:\n",
    "    data=df_results[(df_results.type=='angle') | ((df_results.type=='distance') & (df_results.sigma==sigma_distance))]\n",
    "\n",
    "    sizes = data.square_size.unique()[::2]\n",
    "    delta=4\n",
    "    colors = sns.color_palette('Blues', n_colors=len(sizes)+delta)\n",
    "    colors_dist = sns.color_palette('Reds', n_colors=len(sizes)+delta)\n",
    "\n",
    "    fig, ax = plt.subplots()\n",
    "    fig.set_size_inches(6, 2.5)\n",
    "    i = 0\n",
    "    l2s=[]\n",
    "    for size in sizes:\n",
    "        data_size = data[data.square_size==size]\n",
    "        error_distance = data_size.loc[data_size.type=='distance', 'error'].mean()\n",
    "        error_angle = data_size.loc[data_size.type=='angle']\n",
    "\n",
    "        df = error_angle[['sigma','error']].astype(np.float32)\n",
    "        df_means = df.groupby('sigma').agg('median')\n",
    "        ax.loglog(df_means.index.values, df_means.error.values, color=colors[i+delta], label=size)\n",
    "        l2 = ax.axhline(y=error_distance, color=colors_dist[i+delta])\n",
    "        l2s.append(l2)\n",
    "        i+=1\n",
    "    ax.set_title('$\\sigma_d$={:.1e}'.format(sigma_distance))\n",
    "    ax.set_xlabel('$\\sigma_a$')\n",
    "    ax.set_ylabel('MSE')\n",
    "    handels, labels = ax.get_legend_handles_labels()\n",
    "    ax.legend(handels[:2]+handels[-2:], \n",
    "              labels[:2]+labels[-2:],\n",
    "              loc='lower right', title='size of area')\n",
    "    #savefig('plots/comparison.pdf', fig=fig)"
   ]
  },
  {
   "cell_type": "code",
   "execution_count": null,
   "metadata": {},
   "outputs": [],
   "source": [
    "from helpers import savefig\n",
    "sigmas_distance = df_results[df_results.type=='distance'].sigma.unique()\n",
    "sigmas_angle = df_results[df_results.type=='angle'].sigma.unique()\n",
    "\n",
    "fig, ax = plt.subplots()\n",
    "fig.set_size_inches(6, 2.5)\n",
    "\n",
    "sizes = data.square_size.unique()[::2]\n",
    "delta=4\n",
    "colors = sns.color_palette('Blues', n_colors=len(sizes)+delta)\n",
    "max_sigma = 10\n",
    "\n",
    "for i, size in enumerate(sizes):\n",
    "    data_size = data[data.square_size==size]\n",
    "    error_angle = data_size.loc[data_size.type=='angle']\n",
    "    \n",
    "    sigmas = df_means.index.values\n",
    "    xs = sigmas[sigmas<=max_sigma]\n",
    "    ys = df_means.error.values[sigmas<=max_sigma]\n",
    "\n",
    "    df = error_angle[['sigma','error']].astype(np.float32)\n",
    "    df_means = df.groupby('sigma').agg('median')\n",
    "    ax.loglog(xs, ys, color=colors[i+delta], label=size)\n",
    "\n",
    "palettes = ['Greens', 'Oranges', 'Purples']\n",
    "linestyles = [':', '-.', '--']\n",
    "chosen_sigmas = [sigmas_distance[i] for i in plot_sigmas]\n",
    "handles2 = []\n",
    "for j, sigma_distance in enumerate(chosen_sigmas):\n",
    "    data=df_results[(df_results.type=='angle') | ((df_results.type=='distance') & (df_results.sigma==sigma_distance))]\n",
    "    colors_dist = sns.color_palette(palettes[j], n_colors=len(sizes)+delta)\n",
    "    for i, size in enumerate(sizes):\n",
    "        data_size = data[data.square_size==size]\n",
    "        error_distance = data_size.loc[data_size.type=='distance', 'error'].mean()\n",
    "        ax.axhline(y=error_distance, color=colors_dist[i+delta], ls=linestyles[j])\n",
    "    h2 = ax.axhline(y=error_distance, color=colors_dist[i+delta], ls=linestyles[j])\n",
    "    handles2.append(h2)\n",
    "    \n",
    "ax.set_xlabel('angle noise $\\sigma_a$')\n",
    "ax.set_ylabel('accuracy')\n",
    "ax.grid()\n",
    "handels, labels = ax.get_legend_handles_labels()\n",
    "l1 = ax.legend(handels[:1]+handels[-1:], \n",
    "          labels[:1]+labels[-1:],\n",
    "          loc='lower right', title='size of area', framealpha=1.0)\n",
    "ax.legend(handles2, ['{:2.1e}'.format(s) for s in chosen_sigmas], \n",
    "          loc='upper left', title='distance noise $\\sigma_d$', framealpha=1.0)\n",
    "ax.add_artist(l1)\n",
    "savefig('plots/comparison.pdf', fig=fig)"
   ]
  },
  {
   "cell_type": "code",
   "execution_count": null,
   "metadata": {},
   "outputs": [],
   "source": []
  }
 ],
 "metadata": {
  "kernelspec": {
   "display_name": "Python 3",
   "language": "python",
   "name": "python3"
  },
  "language_info": {
   "codemirror_mode": {
    "name": "ipython",
    "version": 3
   },
   "file_extension": ".py",
   "mimetype": "text/x-python",
   "name": "python",
   "nbconvert_exporter": "python",
   "pygments_lexer": "ipython3",
   "version": "3.5.7"
  }
 },
 "nbformat": 4,
 "nbformat_minor": 2
}
